{
 "cells": [
  {
   "cell_type": "code",
   "execution_count": 1,
   "metadata": {},
   "outputs": [
    {
     "data": {
      "text/plain": [
       "True"
      ]
     },
     "execution_count": 1,
     "metadata": {},
     "output_type": "execute_result"
    }
   ],
   "source": [
    "from domain.infrastructure import DynamoDBCardRepository\n",
    "from domain.models import Card, CardStatus\n",
    "\n",
    "from dotenv import load_dotenv\n",
    "from dynamodb_ops import create_table, get_client\n",
    "\n",
    "load_dotenv()"
   ]
  },
  {
   "cell_type": "code",
   "execution_count": 2,
   "metadata": {},
   "outputs": [
    {
     "name": "stdout",
     "output_type": "stream",
     "text": [
      "Creating table cards...\n",
      "Table cards created successfully!\n"
     ]
    },
    {
     "data": {
      "text/plain": [
       "{'TableDescription': {'AttributeDefinitions': [{'AttributeName': 'id',\n",
       "    'AttributeType': 'S'}],\n",
       "  'TableName': 'cards',\n",
       "  'KeySchema': [{'AttributeName': 'id', 'KeyType': 'HASH'}],\n",
       "  'TableStatus': 'CREATING',\n",
       "  'CreationDateTime': datetime.datetime(2024, 12, 15, 11, 0, 48, 223000, tzinfo=tzlocal()),\n",
       "  'ProvisionedThroughput': {'NumberOfDecreasesToday': 0,\n",
       "   'ReadCapacityUnits': 1,\n",
       "   'WriteCapacityUnits': 1},\n",
       "  'TableSizeBytes': 0,\n",
       "  'ItemCount': 0,\n",
       "  'TableArn': 'arn:aws:dynamodb:us-east-1:865348017057:table/cards',\n",
       "  'TableId': '50336583-f499-4034-a9db-a52a0e35c638',\n",
       "  'DeletionProtectionEnabled': False},\n",
       " 'ResponseMetadata': {'RequestId': 'LK0MS0OT82UR1IS0P2K1AQ2JOJVV4KQNSO5AEMVJF66Q9ASUAAJG',\n",
       "  'HTTPStatusCode': 200,\n",
       "  'HTTPHeaders': {'server': 'Server',\n",
       "   'date': 'Sun, 15 Dec 2024 17:00:48 GMT',\n",
       "   'content-type': 'application/x-amz-json-1.0',\n",
       "   'content-length': '504',\n",
       "   'connection': 'keep-alive',\n",
       "   'x-amzn-requestid': 'LK0MS0OT82UR1IS0P2K1AQ2JOJVV4KQNSO5AEMVJF66Q9ASUAAJG',\n",
       "   'x-amz-crc32': '3004406902'},\n",
       "  'RetryAttempts': 0}}"
      ]
     },
     "execution_count": 2,
     "metadata": {},
     "output_type": "execute_result"
    }
   ],
   "source": [
    "# create_table(\"cards\", get_client(\"local\"))\n",
    "# dynamodb_client = get_client(\"local\")\n",
    "dynamodb_client = get_client()\n",
    "create_table(\"cards\", dynamodb_client)"
   ]
  },
  {
   "cell_type": "code",
   "execution_count": 2,
   "metadata": {},
   "outputs": [],
   "source": [
    "repo = DynamoDBCardRepository(dynamodb_client)"
   ]
  },
  {
   "cell_type": "code",
   "execution_count": 3,
   "metadata": {},
   "outputs": [
    {
     "data": {
      "text/plain": [
       "[{'AttributeName': 'id', 'KeyType': 'HASH'}]"
      ]
     },
     "execution_count": 3,
     "metadata": {},
     "output_type": "execute_result"
    }
   ],
   "source": [
    "repo.get_key_schema()"
   ]
  },
  {
   "cell_type": "code",
   "execution_count": 4,
   "metadata": {},
   "outputs": [
    {
     "data": {
      "text/plain": [
       "Card(title='Lecture 1', description='This is the first lecture of the course.', status='TODO', id='1d0c1889-bd56-49ac-83e7-1626d84c2627', created_at='2024-12-15T11:05:45.714909', updated_at='2024-12-15T11:05:45.714913')"
      ]
     },
     "execution_count": 4,
     "metadata": {},
     "output_type": "execute_result"
    }
   ],
   "source": [
    "repo.create(Card(\n",
    "  title=\"Lecture 1\",\n",
    "  description=\"This is the first lecture of the course.\",\n",
    "  status=CardStatus.TODO.value\n",
    "))"
   ]
  },
  {
   "cell_type": "code",
   "execution_count": 5,
   "metadata": {},
   "outputs": [
    {
     "data": {
      "text/plain": [
       "[Card(title='Lecture 1', description='This is the first lecture of the course.', status='TODO', id='1d0c1889-bd56-49ac-83e7-1626d84c2627', created_at='2024-12-15T11:05:45.714909', updated_at='2024-12-15T11:05:45.714913')]"
      ]
     },
     "execution_count": 5,
     "metadata": {},
     "output_type": "execute_result"
    }
   ],
   "source": [
    "cards = repo.list_all()\n",
    "cards"
   ]
  },
  {
   "cell_type": "code",
   "execution_count": 6,
   "metadata": {},
   "outputs": [],
   "source": [
    "assert len(cards) == 1"
   ]
  },
  {
   "cell_type": "code",
   "execution_count": 19,
   "metadata": {},
   "outputs": [
    {
     "data": {
      "text/plain": [
       "Card(title='My homework card', description='This is my homework card', status='IN_PROGRESS', id='bc221624-5577-4b69-b0bf-1523a099215b', created_at='2024-12-15T11:07:12.850865', updated_at='2024-12-15T11:07:12.850871')"
      ]
     },
     "execution_count": 19,
     "metadata": {},
     "output_type": "execute_result"
    }
   ],
   "source": [
    "repo.create(Card(\n",
    "    title=\"My homework card\",\n",
    "    description=\"This is my homework card\",\n",
    "    status=CardStatus.IN_PROGRESS.value\n",
    "))"
   ]
  },
  {
   "cell_type": "code",
   "execution_count": 20,
   "metadata": {},
   "outputs": [
    {
     "data": {
      "text/plain": [
       "[Card(title='My homework card', description='This is my homework card', status='IN_PROGRESS', id='bc221624-5577-4b69-b0bf-1523a099215b', created_at='2024-12-15T11:07:12.850865', updated_at='2024-12-15T11:07:12.850871'),\n",
       " Card(title='Lecture 1', description='This is the first lecture of the course.', status='TODO', id='1d0c1889-bd56-49ac-83e7-1626d84c2627', created_at='2024-12-15T11:05:45.714909', updated_at='2024-12-15T11:05:45.714913')]"
      ]
     },
     "execution_count": 20,
     "metadata": {},
     "output_type": "execute_result"
    }
   ],
   "source": [
    "cards = repo.list_all()\n",
    "cards"
   ]
  },
  {
   "cell_type": "code",
   "execution_count": 9,
   "metadata": {},
   "outputs": [],
   "source": [
    "assert len(cards) == 2"
   ]
  },
  {
   "cell_type": "code",
   "execution_count": 10,
   "metadata": {},
   "outputs": [],
   "source": [
    "assert len(repo.list_by_status(CardStatus.IN_PROGRESS.value)) == 1"
   ]
  },
  {
   "cell_type": "code",
   "execution_count": 11,
   "metadata": {},
   "outputs": [],
   "source": [
    "assert len(repo.list_by_status(CardStatus.DONE.value)) == 0"
   ]
  },
  {
   "cell_type": "code",
   "execution_count": 12,
   "metadata": {},
   "outputs": [
    {
     "data": {
      "text/plain": [
       "Card(title='My homework card', description='This is my homework card', status='IN_PROGRESS', id='6d93cd37-f0c2-4325-a235-da54541b38d7', created_at='2024-12-15T11:05:58.786075', updated_at='2024-12-15T11:05:58.786084')"
      ]
     },
     "execution_count": 12,
     "metadata": {},
     "output_type": "execute_result"
    }
   ],
   "source": [
    "card1 = repo.get(cards[0].id)\n",
    "card1"
   ]
  },
  {
   "cell_type": "code",
   "execution_count": 13,
   "metadata": {},
   "outputs": [],
   "source": [
    "cards[0].status = CardStatus.DONE.value"
   ]
  },
  {
   "cell_type": "code",
   "execution_count": 14,
   "metadata": {},
   "outputs": [
    {
     "data": {
      "text/plain": [
       "Card(title='My homework card', description='This is my homework card', status='DONE', id='6d93cd37-f0c2-4325-a235-da54541b38d7', created_at='2024-12-15T11:05:58.786075', updated_at='2024-12-15T11:05:58.786084')"
      ]
     },
     "execution_count": 14,
     "metadata": {},
     "output_type": "execute_result"
    }
   ],
   "source": [
    "repo.update(cards[0])"
   ]
  },
  {
   "cell_type": "code",
   "execution_count": 15,
   "metadata": {},
   "outputs": [
    {
     "data": {
      "text/plain": [
       "[Card(title='My homework card', description='This is my homework card', status='DONE', id='6d93cd37-f0c2-4325-a235-da54541b38d7', created_at='2024-12-15T11:05:58.786075', updated_at='2024-12-15T11:05:58.786084')]"
      ]
     },
     "execution_count": 15,
     "metadata": {},
     "output_type": "execute_result"
    }
   ],
   "source": [
    "done_cards = repo.list_by_status(CardStatus.DONE.value)\n",
    "done_cards"
   ]
  },
  {
   "cell_type": "code",
   "execution_count": 16,
   "metadata": {},
   "outputs": [],
   "source": [
    "assert len(done_cards) == 1"
   ]
  },
  {
   "cell_type": "code",
   "execution_count": 17,
   "metadata": {},
   "outputs": [],
   "source": [
    "repo.delete(done_cards[0].id)"
   ]
  },
  {
   "cell_type": "code",
   "execution_count": 18,
   "metadata": {},
   "outputs": [],
   "source": [
    "assert len(repo.list_by_status(CardStatus.DONE.value)) == 0"
   ]
  },
  {
   "cell_type": "code",
   "execution_count": null,
   "metadata": {},
   "outputs": [],
   "source": [
    "all_cards = repo.list_all()\n",
    "for card in all_cards:\n",
    "    repo.delete(card.id)\n",
    "all_cards = repo.list_all()\n",
    "assert len(all_cards) == 0\n"
   ]
  },
  {
   "cell_type": "code",
   "execution_count": null,
   "metadata": {},
   "outputs": [],
   "source": []
  }
 ],
 "metadata": {
  "kernelspec": {
   "display_name": "Python 3",
   "language": "python",
   "name": "python3"
  },
  "language_info": {
   "codemirror_mode": {
    "name": "ipython",
    "version": 3
   },
   "file_extension": ".py",
   "mimetype": "text/x-python",
   "name": "python",
   "nbconvert_exporter": "python",
   "pygments_lexer": "ipython3",
   "version": "3.11.9"
  }
 },
 "nbformat": 4,
 "nbformat_minor": 2
}
